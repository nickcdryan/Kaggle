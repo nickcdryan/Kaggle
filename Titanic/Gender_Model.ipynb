{
 "cells": [
  {
   "cell_type": "code",
   "execution_count": 1,
   "metadata": {
    "collapsed": true
   },
   "outputs": [],
   "source": [
    "\"\"\" Now that the user can read in a file this creates a model which uses the price, class and gender\n",
    "Author : AstroDave\n",
    "Date : 18th September 2012\n",
    "Revised : 28 March 2014\n",
    "\n",
    "\"\"\"\n",
    "\n",
    "\n",
    "import csv as csv\n",
    "import numpy as np\n",
    "\n",
    "csv_file_object = csv.reader(open('train.csv', 'rb'))       # Load in the csv file\n",
    "header = csv_file_object.next()                             # Skip the fist line as it is a header\n",
    "data=[]                                                     # Create a variable to hold the data\n",
    "\n",
    "for row in csv_file_object:                 # Skip through each row in the csv file\n",
    "    data.append(row)                        # adding each row to the data variable\n",
    "data = np.array(data)                       # Then convert from a list to an array"
   ]
  },
  {
   "cell_type": "code",
   "execution_count": 2,
   "metadata": {
    "collapsed": true
   },
   "outputs": [],
   "source": [
    "# In order to analyse the price column I need to bin up that data\n",
    "# here are my binning parameters, the problem we face is some of the fares are very large\n",
    "# So we can either have a lot of bins with nothing in them or we can just lose some\n",
    "# information by just considering that anythng over 39 is simply in the last bin.\n",
    "# So we add a ceiling\n",
    "fare_ceiling = 40\n",
    "# then modify the data in the Fare column to = 39, if it is greater or equal to the ceiling\n",
    "data[ data[0::,9].astype(np.float) >= fare_ceiling, 9 ] = fare_ceiling - 1.0\n",
    "\n",
    "fare_bracket_size = 10\n",
    "number_of_price_brackets = fare_ceiling / fare_bracket_size\n",
    "number_of_classes = 3                             # I know there were 1st, 2nd and 3rd classes on board.\n",
    "number_of_classes = len(np.unique(data[0::,2]))   # But it's better practice to calculate this from the Pclass directly:\n",
    "                                                  # just take the length of an array of UNIQUE values in column index 2\n"
   ]
  },
  {
   "cell_type": "code",
   "execution_count": 3,
   "metadata": {
    "collapsed": false,
    "scrolled": true
   },
   "outputs": [],
   "source": [
    "# This reference matrix will show the proportion of survivors as a sorted table of\n",
    "# gender, class and ticket fare.\n",
    "# First initialize it with all zeros\n",
    "survival_table = np.zeros([2,number_of_classes,number_of_price_brackets],float)\n",
    "\n",
    "\n",
    "# I can now find the stats of all the women and men on board\n",
    "for i in xrange(number_of_classes):\n",
    "    for j in xrange(number_of_price_brackets):\n",
    "\n",
    "        women_only_stats = data[ \n",
    "                                 (data[0::,4] == \"female\") \\\n",
    "                                 & (data[0::,2].astype(np.float) == i+1) \\\n",
    "                                 & (data[0:,9].astype(np.float) >= j*fare_bracket_size) \\\n",
    "                                 & (data[0:,9].astype(np.float) < (j+1)*fare_bracket_size)\n",
    "                                , 1]\n",
    "\n",
    "        men_only_stats = data[ (data[0::,4] != \"female\") \\\n",
    "                                 & (data[0::,2].astype(np.float) == i+1) \\\n",
    "                                 & (data[0:,9].astype(np.float) >= j*fare_bracket_size) \\\n",
    "                                 & (data[0:,9].astype(np.float) < (j+1)*fare_bracket_size), 1]\n",
    "\n",
    "                                 #if i == 0 and j == 3:\n",
    "\n",
    "        #survival_table[0,i,j] = np.mean(women_only_stats.astype(np.float))  # Female stats\n",
    "        #survival_table[1,i,j] = np.mean(men_only_stats.astype(np.float))    # Male stats\n",
    "\n",
    "survival_table[ survival_table != survival_table ] = 0        \n",
    "\n",
    "\n"
   ]
  },
  {
   "cell_type": "code",
   "execution_count": 4,
   "metadata": {
    "collapsed": true
   },
   "outputs": [],
   "source": [
    "survival_table[ survival_table < 0.5 ] = 0\n",
    "survival_table[ survival_table >= 0.5 ] = 1 "
   ]
  },
  {
   "cell_type": "code",
   "execution_count": 5,
   "metadata": {
    "collapsed": false
   },
   "outputs": [
    {
     "name": "stdout",
     "output_type": "stream",
     "text": [
      "[[[ 0.  0.  0.  0.]\n",
      "  [ 0.  0.  0.  0.]\n",
      "  [ 0.  0.  0.  0.]]\n",
      "\n",
      " [[ 0.  0.  0.  0.]\n",
      "  [ 0.  0.  0.  0.]\n",
      "  [ 0.  0.  0.  0.]]]\n"
     ]
    }
   ],
   "source": [
    "print survival_table"
   ]
  },
  {
   "cell_type": "code",
   "execution_count": 325,
   "metadata": {
    "collapsed": false
   },
   "outputs": [
    {
     "name": "stdout",
     "output_type": "stream",
     "text": [
      "<_csv.writer object at 0x10514acb0>\n"
     ]
    }
   ],
   "source": [
    "test_file = open('test.csv', 'rb')\n",
    "test_file_object = csv.reader(test_file)\n",
    "header = test_file_object.next()\n",
    "predictions_file = open(\"genderclassmodel.csv\", \"wb\")\n",
    "p = csv.writer(predictions_file)\n",
    "p.writerow([\"PassengerId\", \"Survived\"])\n",
    "\n",
    "print p"
   ]
  },
  {
   "cell_type": "code",
   "execution_count": 327,
   "metadata": {
    "collapsed": true
   },
   "outputs": [],
   "source": [
    "for row in test_file_object:                 # We are going to loop\n",
    "                                              # through each passenger\n",
    "                                              # in the test set                     \n",
    "  for j in xrange(number_of_price_brackets):  # For each passenger we\n",
    "                                              # loop thro each price bin\n",
    "    try:                                      # Some passengers have no\n",
    "                                              # Fare data so try to make\n",
    "      row[8] = float(row[8])                  # a float\n",
    "    except:                                   # If fails: no data, so \n",
    "      bin_fare = 3 - float(row[1])            # bin the fare according Pclass\n",
    "      break                                   # Break from the loop\n",
    "    if row[8] > fare_ceiling:              # If there is data see if\n",
    "                                              # it is greater than fare\n",
    "                                              # ceiling we set earlier\n",
    "      bin_fare = number_of_price_brackets-1   # If so set to highest bin\n",
    "      break                                   # And then break loop\n",
    "    if row[8] >= j * fare_bracket_size\\\n",
    "       and row[8] < \\\n",
    "       (j+1) * fare_bracket_size:             # If passed these tests \n",
    "                                              # then loop through each bin \n",
    "      bin_fare = j                            # then assign index\n",
    "      break                                   "
   ]
  },
  {
   "cell_type": "code",
   "execution_count": 338,
   "metadata": {
    "collapsed": false
   },
   "outputs": [
    {
     "name": "stdout",
     "output_type": "stream",
     "text": [
      "4\n"
     ]
    }
   ],
   "source": [
    "print len(np.unique(data[0::,11]))"
   ]
  },
  {
   "cell_type": "code",
   "execution_count": 337,
   "metadata": {
    "collapsed": false
   },
   "outputs": [
    {
     "ename": "IndentationError",
     "evalue": "expected an indented block (<ipython-input-337-2f64b41dd084>, line 4)",
     "output_type": "error",
     "traceback": [
      "\u001b[0;36m  File \u001b[0;32m\"<ipython-input-337-2f64b41dd084>\"\u001b[0;36m, line \u001b[0;32m4\u001b[0m\n\u001b[0;31m    predictions_file_object.writerow([row[0], \"%d\" % int(survival_table[ 0, float(row[1]) - 1, bin_fare ])])\u001b[0m\n\u001b[0m                          ^\u001b[0m\n\u001b[0;31mIndentationError\u001b[0m\u001b[0;31m:\u001b[0m expected an indented block\n"
     ]
    }
   ],
   "source": [
    "        # Now I have the binned fare, passenger class, and whether female or male, we can\n",
    "        # just cross ref their details with our survival table\n",
    "if row[3] == 'female':\n",
    "        predictions_file_object.writerow([row[0], \"%d\" % int(survival_table[ 0, float(row[1]) - 1, bin_fare ])])\n",
    "else:\n",
    "        predictions_file_object.writerow([row[0], \"%d\" % int(survival_table[ 1, float(row[1]) - 1, bin_fare])])\n",
    "\n",
    "# Close out the files\n",
    "test_file.close()\n",
    "predictions_file.close()"
   ]
  }
 ],
 "metadata": {
  "celltoolbar": "Raw Cell Format",
  "kernelspec": {
   "display_name": "Python 2",
   "language": "python",
   "name": "python2"
  },
  "language_info": {
   "codemirror_mode": {
    "name": "ipython",
    "version": 2
   },
   "file_extension": ".py",
   "mimetype": "text/x-python",
   "name": "python",
   "nbconvert_exporter": "python",
   "pygments_lexer": "ipython2",
   "version": "2.7.12"
  }
 },
 "nbformat": 4,
 "nbformat_minor": 0
}
